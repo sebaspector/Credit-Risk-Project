{
  "nbformat": 4,
  "nbformat_minor": 0,
  "metadata": {
    "colab": {
      "provenance": [],
      "authorship_tag": "ABX9TyPiDOkxCQvVATwlrQ+t5V4z",
      "include_colab_link": true
    },
    "kernelspec": {
      "name": "python3",
      "display_name": "Python 3"
    },
    "language_info": {
      "name": "python"
    }
  },
  "cells": [
    {
      "cell_type": "markdown",
      "metadata": {
        "id": "view-in-github",
        "colab_type": "text"
      },
      "source": [
        "<a href=\"https://colab.research.google.com/github/sebaspector/Credit-Scoring-Models-in-Python-Logistic-Regression-vs.-Neural-Network/blob/main/Credit_Scoring_Model.ipynb\" target=\"_parent\"><img src=\"https://colab.research.google.com/assets/colab-badge.svg\" alt=\"Open In Colab\"/></a>"
      ]
    },
    {
      "cell_type": "code",
      "execution_count": 1,
      "metadata": {
        "id": "Hh61mxcfOvQj"
      },
      "outputs": [],
      "source": [
        "import pandas as pd\n",
        "from sklearn.model_selection import train_test_split\n",
        "from sklearn.linear_model import LogisticRegression\n",
        "from sklearn.metrics import accuracy_score, classification_report"
      ]
    },
    {
      "cell_type": "code",
      "source": [
        "data = {\n",
        "    'CreditScore': [700, 650, 720, 600, 750, 680, 720, 690, 710, 660],\n",
        "    'AnnualIncome': [60000, 45000, 70000, 35000, 80000, 55000, 72000, 58000, 65000, 50000],\n",
        "    'TotalDebt': [20000, 15000, 25000, 10000, 30000, 18000, 26000, 20000, 21000, 16000],\n",
        "    'EmploymentLength': [5, 3, 7, 2, 8, 4, 6, 3, 5, 2],\n",
        "    'LoanApproved': [1, 0, 1, 0, 1, 0, 1, 0, 1, 0]\n",
        "}"
      ],
      "metadata": {
        "id": "kuQSEE6OOz2k"
      },
      "execution_count": 3,
      "outputs": []
    },
    {
      "cell_type": "code",
      "source": [
        "df = pd.DataFrame(data)"
      ],
      "metadata": {
        "id": "5pUaE_1jO3Xn"
      },
      "execution_count": 4,
      "outputs": []
    },
    {
      "cell_type": "code",
      "source": [
        "X = df[['CreditScore', 'AnnualIncome', 'TotalDebt', 'EmploymentLength']]\n",
        "y = df['LoanApproved']"
      ],
      "metadata": {
        "id": "FNqZcOClO5Mb"
      },
      "execution_count": 5,
      "outputs": []
    },
    {
      "cell_type": "code",
      "source": [
        "X_train, X_test, y_train, y_test = train_test_split(X, y, test_size=0.3, random_state=42)"
      ],
      "metadata": {
        "id": "d7oWTJt7O7oh"
      },
      "execution_count": 14,
      "outputs": []
    },
    {
      "cell_type": "code",
      "source": [
        "# Create a logistic regression model\n",
        "model = LogisticRegression()\n",
        "\n",
        "# Fit the model on the training data\n",
        "model.fit(X_train, y_train)\n",
        "\n",
        "# Make predictions on the testing data\n",
        "y_pred = model.predict(X_test)\n"
      ],
      "metadata": {
        "id": "cbPGH7tcO-B2"
      },
      "execution_count": 15,
      "outputs": []
    },
    {
      "cell_type": "code",
      "source": [
        "# Evaluate the model\n",
        "accuracy = accuracy_score(y_test, y_pred)\n",
        "classification_rep = classification_report(y_test, y_pred)"
      ],
      "metadata": {
        "id": "5XriVG5BPCaS"
      },
      "execution_count": 16,
      "outputs": []
    },
    {
      "cell_type": "code",
      "source": [
        "# Print the model's accuracy and classification report\n",
        "print(f\"Accuracy: {accuracy}\")\n",
        "print(\"Classification Report:\")\n",
        "print(classification_rep)"
      ],
      "metadata": {
        "colab": {
          "base_uri": "https://localhost:8080/"
        },
        "id": "7j-6sIUgPFIK",
        "outputId": "4c8ce48c-8a3a-41f9-a7df-7b875b8ae14e"
      },
      "execution_count": 17,
      "outputs": [
        {
          "output_type": "stream",
          "name": "stdout",
          "text": [
            "Accuracy: 1.0\n",
            "Classification Report:\n",
            "              precision    recall  f1-score   support\n",
            "\n",
            "           0       1.00      1.00      1.00         2\n",
            "           1       1.00      1.00      1.00         1\n",
            "\n",
            "    accuracy                           1.00         3\n",
            "   macro avg       1.00      1.00      1.00         3\n",
            "weighted avg       1.00      1.00      1.00         3\n",
            "\n"
          ]
        }
      ]
    },
    {
      "cell_type": "code",
      "source": [
        "# Create a new loan application dataset for prediction.\n",
        "new_applications = {\n",
        "    'CreditScore': [720, 680, 650, 710, 660, 730, 690, 700, 720, 680, 730, 680, 710, 670, 700, 690, 720, 680, 650, 710],\n",
        "    'AnnualIncome': [60000, 55000, 48000, 62000, 56000, 64000, 58000, 59000, 61000, 55000, 64000, 55000, 62000, 57000, 59000, 58000, 61000, 55000, 48000, 62000],\n",
        "    'TotalDebt': [20000, 18000, 16000, 21000, 16000, 22000, 19000, 20000, 20000, 18000, 22000, 18000, 21000, 17000, 20000, 19000, 20000, 18000, 16000, 21000],\n",
        "    'EmploymentLength': [5, 4, 3, 6, 2, 4, 3, 5, 5, 4, 6, 4, 5, 3, 5, 3, 6, 2, 3, 5]\n",
        "}\n",
        "\n",
        "# Create a DataFrame with the new applications.\n",
        "new_df = pd.DataFrame(new_applications)\n",
        "\n",
        "# Use the trained model to predict loan approval for the new applications.\n",
        "loan_approval_predictions = model.predict(new_df)\n",
        "\n",
        "# Print the predictions.\n",
        "for i, prediction in enumerate(loan_approval_predictions):\n",
        "    if prediction == 1:\n",
        "        print(f\"Loan application {i + 1}: Approved\")\n",
        "    else:\n",
        "        print(f\"Loan application {i + 1}: Not Approved\")"
      ],
      "metadata": {
        "colab": {
          "base_uri": "https://localhost:8080/"
        },
        "id": "kY0aSv9CPkl-",
        "outputId": "eb5825ff-1225-4eae-a8f9-1ebde7c2973e"
      },
      "execution_count": 18,
      "outputs": [
        {
          "output_type": "stream",
          "name": "stdout",
          "text": [
            "Loan application 1: Approved\n",
            "Loan application 2: Not Approved\n",
            "Loan application 3: Not Approved\n",
            "Loan application 4: Approved\n",
            "Loan application 5: Approved\n",
            "Loan application 6: Approved\n",
            "Loan application 7: Approved\n",
            "Loan application 8: Not Approved\n",
            "Loan application 9: Approved\n",
            "Loan application 10: Not Approved\n",
            "Loan application 11: Approved\n",
            "Loan application 12: Not Approved\n",
            "Loan application 13: Approved\n",
            "Loan application 14: Approved\n",
            "Loan application 15: Not Approved\n",
            "Loan application 16: Approved\n",
            "Loan application 17: Approved\n",
            "Loan application 18: Not Approved\n",
            "Loan application 19: Not Approved\n",
            "Loan application 20: Approved\n"
          ]
        }
      ]
    },
    {
      "cell_type": "code",
      "source": [
        "import numpy as np\n",
        "import tensorflow as tf\n",
        "from tensorflow import keras\n",
        "from sklearn.model_selection import train_test_split\n",
        "from sklearn.preprocessing import StandardScaler\n",
        "\n",
        "# Generate synthetic credit scoring data for demonstration\n",
        "# Replace this with your real dataset\n",
        "np.random.seed(0)\n",
        "X = np.random.rand(1000, 3)  # Example features (e.g., credit score, income, employment length)\n",
        "y = np.random.randint(2, size=1000)  # Binary labels (0: Not Approved, 1: Approved)\n",
        "\n",
        "# Split the data into training and test sets\n",
        "X_train, X_test, y_train, y_test = train_test_split(X, y, test_size=0.2, random_state=0)\n",
        "\n",
        "# Standardize the features (important for neural networks)\n",
        "scaler = StandardScaler()\n",
        "X_train = scaler.fit_transform(X_train)\n",
        "X_test = scaler.transform(X_test)\n",
        "\n",
        "# Build a simple neural network model for credit scoring\n",
        "model = keras.Sequential([\n",
        "    keras.layers.Dense(32, activation='relu', input_shape=(3,)),\n",
        "    keras.layers.Dense(16, activation='relu'),\n",
        "    keras.layers.Dense(1, activation='sigmoid')\n",
        "])\n",
        "\n",
        "# Compile the model\n",
        "model.compile(optimizer='adam', loss='binary_crossentropy', metrics=['accuracy'])\n",
        "\n",
        "# Train the model\n",
        "model.fit(X_train, y_train, epochs=20, batch_size=32, verbose=1)\n",
        "\n",
        "# Evaluate the model on the test data\n",
        "loss, accuracy = model.evaluate(X_test, y_test)\n",
        "print(f\"Test accuracy: {accuracy}\")\n",
        "\n",
        "# Make predictions on new data\n",
        "new_data = np.array([[0.8, 0.6, 0.7]])  # Replace with actual borrower data\n",
        "new_data = scaler.transform(new_data)  # Standardize new data\n",
        "predictions = model.predict(new_data)\n",
        "\n",
        "# Interpret the predictions (e.g., if prediction > 0.5, approve the loan)\n",
        "if predictions > 0.5:\n",
        "    print(\"Loan Approved\")\n",
        "else:\n",
        "    print(\"Loan Not Approved\")"
      ],
      "metadata": {
        "colab": {
          "base_uri": "https://localhost:8080/"
        },
        "id": "d97sgDrShtSR",
        "outputId": "bfe0ea60-69c1-40d4-e570-c6c1fe63dfdd"
      },
      "execution_count": 20,
      "outputs": [
        {
          "output_type": "stream",
          "name": "stdout",
          "text": [
            "Epoch 1/20\n",
            "25/25 [==============================] - 4s 14ms/step - loss: 0.6936 - accuracy: 0.5100\n",
            "Epoch 2/20\n",
            "25/25 [==============================] - 1s 20ms/step - loss: 0.6909 - accuracy: 0.5213\n",
            "Epoch 3/20\n",
            "25/25 [==============================] - 1s 20ms/step - loss: 0.6888 - accuracy: 0.4988\n",
            "Epoch 4/20\n",
            "25/25 [==============================] - 1s 23ms/step - loss: 0.6882 - accuracy: 0.5350\n",
            "Epoch 5/20\n",
            "25/25 [==============================] - 0s 14ms/step - loss: 0.6864 - accuracy: 0.5525\n",
            "Epoch 6/20\n",
            "25/25 [==============================] - 0s 10ms/step - loss: 0.6856 - accuracy: 0.5600\n",
            "Epoch 7/20\n",
            "25/25 [==============================] - 0s 6ms/step - loss: 0.6848 - accuracy: 0.5800\n",
            "Epoch 8/20\n",
            "25/25 [==============================] - 0s 6ms/step - loss: 0.6835 - accuracy: 0.5800\n",
            "Epoch 9/20\n",
            "25/25 [==============================] - 0s 10ms/step - loss: 0.6832 - accuracy: 0.5738\n",
            "Epoch 10/20\n",
            "25/25 [==============================] - 0s 9ms/step - loss: 0.6824 - accuracy: 0.5725\n",
            "Epoch 11/20\n",
            "25/25 [==============================] - 0s 15ms/step - loss: 0.6819 - accuracy: 0.5750\n",
            "Epoch 12/20\n",
            "25/25 [==============================] - 0s 7ms/step - loss: 0.6816 - accuracy: 0.5800\n",
            "Epoch 13/20\n",
            "25/25 [==============================] - 0s 4ms/step - loss: 0.6814 - accuracy: 0.5725\n",
            "Epoch 14/20\n",
            "25/25 [==============================] - 0s 5ms/step - loss: 0.6810 - accuracy: 0.5725\n",
            "Epoch 15/20\n",
            "25/25 [==============================] - 0s 14ms/step - loss: 0.6801 - accuracy: 0.5800\n",
            "Epoch 16/20\n",
            "25/25 [==============================] - 0s 10ms/step - loss: 0.6809 - accuracy: 0.5688\n",
            "Epoch 17/20\n",
            "25/25 [==============================] - 0s 5ms/step - loss: 0.6797 - accuracy: 0.5888\n",
            "Epoch 18/20\n",
            "25/25 [==============================] - 0s 5ms/step - loss: 0.6788 - accuracy: 0.5875\n",
            "Epoch 19/20\n",
            "25/25 [==============================] - 0s 6ms/step - loss: 0.6793 - accuracy: 0.5775\n",
            "Epoch 20/20\n",
            "25/25 [==============================] - 0s 2ms/step - loss: 0.6781 - accuracy: 0.5838\n",
            "7/7 [==============================] - 0s 3ms/step - loss: 0.7016 - accuracy: 0.4950\n",
            "Test accuracy: 0.4950000047683716\n",
            "1/1 [==============================] - 0s 82ms/step\n",
            "Loan Not Approved\n"
          ]
        }
      ]
    }
  ]
}